{
 "cells": [
  {
   "cell_type": "code",
   "execution_count": 2,
   "metadata": {},
   "outputs": [
    {
     "name": "stderr",
     "output_type": "stream",
     "text": [
      "Using TensorFlow backend.\n"
     ]
    },
    {
     "name": "stdout",
     "output_type": "stream",
     "text": [
      "Downloading data from https://s3.amazonaws.com/img-datasets/mnist.npz\n",
      " 8757248/11490434 [=====================>........] - ETA: 0s(50000, 28, 28) (50000,)\n"
     ]
    },
    {
     "data": {
      "image/png": "[encoded data removed]",
      "text/plain": [
       "<matplotlib.figure.Figure at 0x7f04e90985f8>"
      ]
     },
     "metadata": {},
     "output_type": "display_data"
    }
   ],
   "source": [
    "from preprocessed_mnist import load_dataset\n",
    "X_train, y_train, X_val, y_val, X_test, y_test = load_dataset()\n",
    "print(X_train.shape, y_train.shape)\n",
    "import matplotlib.pyplot as plt\n",
    "%matplotlib inline\n",
    "plt.imshow(X_train[0], cmap=\"Greys\");"
   ]
  },
  {
   "cell_type": "code",
   "execution_count": 3,
   "metadata": {},
   "outputs": [
    {
     "name": "stdout",
     "output_type": "stream",
     "text": [
      "(50000, 28, 28)\n",
      "(50000,)\n",
      "(10000, 28, 28)\n",
      "(10000,)\n",
      "(10000, 28, 28)\n",
      "(10000,)\n"
     ]
    }
   ],
   "source": [
    "print(X_train.shape)\n",
    "print(y_train.shape)\n",
    "print(X_val.shape)\n",
    "print(y_val.shape)\n",
    "print(X_test.shape)\n",
    "print(y_test.shape)"
   ]
  },
  {
   "cell_type": "code",
   "execution_count": 4,
   "metadata": {
    "collapsed": true
   },
   "outputs": [],
   "source": [
    "import numpy as np"
   ]
  },
  {
   "cell_type": "code",
   "execution_count": 5,
   "metadata": {
    "collapsed": true
   },
   "outputs": [],
   "source": [
    "X_train=X_train.reshape(50000,784)"
   ]
  },
  {
   "cell_type": "code",
   "execution_count": 6,
   "metadata": {
    "collapsed": true
   },
   "outputs": [],
   "source": [
    "X_test=X_test.reshape(10000,784)"
   ]
  },
  {
   "cell_type": "code",
   "execution_count": 7,
   "metadata": {
    "collapsed": true
   },
   "outputs": [],
   "source": [
    "X_val = X_val.reshape(10000,784)"
   ]
  },
  {
   "cell_type": "code",
   "execution_count": 8,
   "metadata": {
    "collapsed": true
   },
   "outputs": [],
   "source": [
    "import tensorflow as tf\n",
    "X_data = tf.placeholder(tf.float32,shape=[None,784],name=\"X_data\") \n",
    "Y_data = tf.placeholder(tf.float32,shape=[None,10],name=\"Y_data\")"
   ]
  },
  {
   "cell_type": "code",
   "execution_count": 9,
   "metadata": {
    "collapsed": true
   },
   "outputs": [],
   "source": [
    "sess = tf.Session()"
   ]
  },
  {
   "cell_type": "code",
   "execution_count": 10,
   "metadata": {
    "collapsed": true
   },
   "outputs": [],
   "source": [
    "W1 = tf.get_variable(\"W1\" , shape=[784,256], initializer=tf.contrib.layers.xavier_initializer(uniform=True,seed=None,dtype=tf.float32))\n",
    "b1 = np.zeros(256)\n",
    "W2 = tf.get_variable(\"W2\" , shape=[256,256], initializer=tf.contrib.layers.xavier_initializer(uniform=True,seed=None,dtype=tf.float32))\n",
    "b2 = np.zeros(256)\n",
    "W3 = tf.get_variable(\"W3\" , shape=[256,10], initializer=tf.contrib.layers.xavier_initializer(uniform=True,seed=None,dtype=tf.float32))\n",
    "b3 = np.zeros(10)"
   ]
  },
  {
   "cell_type": "code",
   "execution_count": 11,
   "metadata": {
    "collapsed": true
   },
   "outputs": [],
   "source": [
    "Z1 = tf.add(tf.matmul(X_data,W1),b1)\n",
    "A1 = tf.nn.relu(Z1)"
   ]
  },
  {
   "cell_type": "code",
   "execution_count": 12,
   "metadata": {},
   "outputs": [
    {
     "name": "stdout",
     "output_type": "stream",
     "text": [
      "(?, 256)\n"
     ]
    }
   ],
   "source": [
    "print(Z1.shape)"
   ]
  },
  {
   "cell_type": "code",
   "execution_count": 13,
   "metadata": {
    "collapsed": true
   },
   "outputs": [],
   "source": [
    "Z2 = tf.add(tf.matmul(A1,W2),b2)\n",
    "A2 = tf.nn.relu(Z2)"
   ]
  },
  {
   "cell_type": "code",
   "execution_count": 14,
   "metadata": {
    "collapsed": true
   },
   "outputs": [],
   "source": [
    "Z3 = tf.add(tf.matmul(A2,W3),b3)\n",
    "A3 = tf.nn.sigmoid(Z3)"
   ]
  },
  {
   "cell_type": "code",
   "execution_count": 15,
   "metadata": {
    "collapsed": true
   },
   "outputs": [],
   "source": [
    "cost = tf.reduce_mean(tf.nn.softmax_cross_entropy_with_logits(logits=A3,labels=Y_data))"
   ]
  },
  {
   "cell_type": "code",
   "execution_count": 16,
   "metadata": {},
   "outputs": [
    {
     "name": "stdout",
     "output_type": "stream",
     "text": [
      "Tensor(\"Mean:0\", shape=(), dtype=float32)\n"
     ]
    }
   ],
   "source": [
    "print(cost)"
   ]
  },
  {
   "cell_type": "code",
   "execution_count": 37,
   "metadata": {
    "collapsed": true
   },
   "outputs": [],
   "source": [
    "learning_rate = 0.001"
   ]
  },
  {
   "cell_type": "code",
   "execution_count": 38,
   "metadata": {
    "collapsed": true
   },
   "outputs": [],
   "source": [
    "optimizer = tf.train.AdamOptimizer(learning_rate).minimize(cost)\n",
    "init = tf.global_variables_initializer()"
   ]
  },
  {
   "cell_type": "code",
   "execution_count": 19,
   "metadata": {
    "collapsed": true
   },
   "outputs": [],
   "source": [
    "y_train = np.eye(10)[y_train]\n",
    "y_test = np.eye(10)[y_test]"
   ]
  },
  {
   "cell_type": "code",
   "execution_count": 39,
   "metadata": {
    "collapsed": true
   },
   "outputs": [],
   "source": [
    "sess.run(init)"
   ]
  },
  {
   "cell_type": "code",
   "execution_count": 40,
   "metadata": {},
   "outputs": [
    {
     "name": "stdout",
     "output_type": "stream",
     "text": [
      "Cost is :1.47006 after 20 epochs\n",
      "Cost is :1.46534 after 40 epochs\n",
      "Cost is :1.46389 after 60 epochs\n",
      "Cost is :1.46322 after 80 epochs\n",
      "Cost is :1.46321 after 100 epochs\n",
      "Cost is :1.46303 after 120 epochs\n",
      "Cost is :1.46303 after 140 epochs\n",
      "Cost is :1.46295 after 160 epochs\n",
      "Cost is :1.46284 after 180 epochs\n",
      "Cost is :1.46276 after 200 epochs\n"
     ]
    }
   ],
   "source": [
    "train_cost=[]\n",
    "test_cost=[]\n",
    "batch_size = 500\n",
    "for epoch in range(200): #Number of epochs used are 200\n",
    "        for i in range(0,100):\n",
    "            sess.run(optimizer, feed_dict={X_data:X_train[i*batch_size:(i+1)*batch_size], Y_data:y_train[i*batch_size:(i+1)*batch_size]})\n",
    "        cur_train_cost = sess.run(cost, feed_dict={X_data:X_train, Y_data:y_train})    \n",
    "        train_cost.append(cur_train_cost)\n",
    "        cur_test_cost = sess.run(cost, feed_dict={X_data:X_test, Y_data:y_test})\n",
    "        test_cost.append(cur_test_cost)\n",
    "        if epoch%20 == 19:\n",
    "            print(\"Cost is :\" + str(train_cost[-1]) + \" after \" + str(epoch+1) + \" epochs\")"
   ]
  },
  {
   "cell_type": "code",
   "execution_count": 41,
   "metadata": {
    "collapsed": true
   },
   "outputs": [],
   "source": [
    "#Predict the labels for test data.\n",
    "y_predict = tf.argmax(Z3, 1)\n",
    "y_true = tf.equal(y_predict, tf.argmax(Y_data, 1))"
   ]
  },
  {
   "cell_type": "code",
   "execution_count": 42,
   "metadata": {
    "collapsed": true
   },
   "outputs": [],
   "source": [
    "iterations = list(range(200))"
   ]
  },
  {
   "cell_type": "code",
   "execution_count": 43,
   "metadata": {},
   "outputs": [
    {
     "data": {
      "image/png": "[encoded data removed]",
      "text/plain": [
       "<matplotlib.figure.Figure at 0x7f04a8299940>"
      ]
     },
     "metadata": {},
     "output_type": "display_data"
    }
   ],
   "source": [
    "#Plot the graph for training and testing.\n",
    "plt.plot(iterations, train_cost)\n",
    "plt.plot(iterations, test_cost)\n",
    "plt.ylabel('training  and testing cost')\n",
    "plt.xlabel('Number of iterations')\n",
    "plt.show()"
   ]
  },
  {
   "cell_type": "code",
   "execution_count": 44,
   "metadata": {},
   "outputs": [
    {
     "name": "stdout",
     "output_type": "stream",
     "text": [
      "Train data Accuracy: [ 0.99809998]\n",
      "Test data Accuracy: [ 0.9842]\n"
     ]
    }
   ],
   "source": [
    "#Compute Accuracy \n",
    "with sess.as_default():\n",
    "    accuracy = tf.reduce_mean(tf.cast(y_true,dtype=tf.float32),axis=None,keep_dims=True,name=\"accuracy\")\n",
    "    train_accuracy = accuracy.eval({X_data: X_train, Y_data: y_train},session=sess)\n",
    "    test_accuracy = accuracy.eval({X_data: X_test, Y_data: y_test},session=sess)\n",
    "    print(\"Train data Accuracy:\", train_accuracy)\n",
    "    print(\"Test data Accuracy:\", test_accuracy)"
   ]
  },
  {
   "cell_type": "code",
   "execution_count": 45,
   "metadata": {
    "collapsed": true
   },
   "outputs": [],
   "source": [
    "sess.close()"
   ]
  },
  {
   "cell_type": "code",
   "execution_count": null,
   "metadata": {
    "collapsed": true
   },
   "outputs": [],
   "source": []
  }
 ],
 "metadata": {
  "kernelspec": {
   "display_name": "Python 3",
   "language": "python",
   "name": "python3"
  },
  "language_info": {
   "codemirror_mode": {
    "name": "ipython",
    "version": 3
   },
   "file_extension": ".py",
   "mimetype": "text/x-python",
   "name": "python",
   "nbconvert_exporter": "python",
   "pygments_lexer": "ipython3",
   "version": "3.6.0"
  }
 },
 "nbformat": 4,
 "nbformat_minor": 2
}
