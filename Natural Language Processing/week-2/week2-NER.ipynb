{
  "cells": [
    {
      "metadata": {
        "collapsed": true
      },
      "cell_type": "markdown",
      "source": "# Recognize named entities on Twitter with LSTMs\n\nIn this assignment, you will use a recurrent neural network to solve Named Entity Recognition (NER) problem. NER is a common task in natural language processing systems. It serves for extraction such entities from the text as persons, organizations, locations, etc. In this task you will experiment to recognize named entities from Twitter.\n\nFor example, we want to extract persons' and organizations' names from the text. Than for the input text:\n\n    Ian Goodfellow works for Google Brain\n\na NER model needs to provide the following sequence of tags:\n\n    B-PER I-PER    O     O   B-ORG  I-ORG\n\nWhere *B-* and *I-* prefixes stand for the beginning and inside of the entity, while *O* stands for out of tag or no tag. Markup with the prefix scheme is called *BIO markup*. This markup is introduced for distinguishing of consequent entities with similar types.\n\nA solution of the task will be based on neural networks, particularly, on Bi-Directional Long Short-Term Memory Networks (Bi-LSTMs).\n\n### Libraries\n\nFor this task you will need the following libraries:\n - [Tensorflow](https://www.tensorflow.org) — an open-source software library for Machine Intelligence.\n - [Numpy](http://www.numpy.org) — a package for scientific computing.\n \nIf you have never worked with Tensorflow, you would probably need to read some tutorials during your work on this assignment, e.g. [this one](https://www.tensorflow.org/tutorials/recurrent) could be a good starting point. "
    },
    {
      "metadata": {},
      "cell_type": "markdown",
      "source": "### Data\n\nThe following cell will download all data required for this assignment into the folder `week2/data`."
    },
    {
      "metadata": {
        "trusted": true
      },
      "cell_type": "code",
      "source": "import sys\nsys.path.append(\"..\")\nfrom common.download_utils import download_week2_resources\n\ndownload_week2_resources()",
      "execution_count": 1,
      "outputs": [
        {
          "output_type": "display_data",
          "data": {
            "application/vnd.jupyter.widget-view+json": {
              "model_id": "cb79b1bfe5c441d2a8a318042b0bd2bd",
              "version_minor": 0,
              "version_major": 2
            },
            "text/plain": "HBox(children=(IntProgress(value=0, max=849548), HTML(value='')))"
          },
          "metadata": {}
        },
        {
          "output_type": "stream",
          "text": "\n",
          "name": "stdout"
        },
        {
          "output_type": "display_data",
          "data": {
            "application/vnd.jupyter.widget-view+json": {
              "model_id": "b4f72edec4df41e09d05f958ed6721be",
              "version_minor": 0,
              "version_major": 2
            },
            "text/plain": "HBox(children=(IntProgress(value=0, max=103771), HTML(value='')))"
          },
          "metadata": {}
        },
        {
          "output_type": "stream",
          "text": "\n",
          "name": "stdout"
        },
        {
          "output_type": "display_data",
          "data": {
            "application/vnd.jupyter.widget-view+json": {
              "model_id": "4bf46567662c4cb48e4c14b51f3b141b",
              "version_minor": 0,
              "version_major": 2
            },
            "text/plain": "HBox(children=(IntProgress(value=0, max=106837), HTML(value='')))"
          },
          "metadata": {}
        },
        {
          "output_type": "stream",
          "text": "\n",
          "name": "stdout"
        }
      ]
    },
    {
      "metadata": {},
      "cell_type": "markdown",
      "source": "### Load the Twitter Named Entity Recognition corpus\n\nWe will work with a corpus, which contains tweets with NE tags. Every line of a file contains a pair of a token (word/punctuation symbol) and a tag, separated by a whitespace. Different tweets are separated by an empty line.\n\nThe function *read_data* reads a corpus from the *file_path* and returns two lists: one with tokens and one with the corresponding tags. You need to complete this function by adding a code, which will replace a user's nickname to `<USR>` token and any URL to `<URL>` token. You could think that a URL and a nickname are just strings which start with *http://* or *https://* in case of URLs and a *@* symbol for nicknames."
    },
    {
      "metadata": {
        "trusted": true
      },
      "cell_type": "code",
      "source": "def read_data(file_path):\n    tokens = []\n    tags = []\n    \n    tweet_tokens = []\n    tweet_tags = []\n    for line in open(file_path, encoding='utf-8'):\n        line = line.strip()\n        if not line:\n            if tweet_tokens:\n                tokens.append(tweet_tokens)\n                tags.append(tweet_tags)\n            tweet_tokens = []\n            tweet_tags = []\n        else:\n            token, tag = line.split()\n            if(token.startswith('@')):\n                token = '<USR>'\n            elif(token.startswith('http://') or token.startswith('https://')):\n                token = '<URL>'\n            tweet_tokens.append(token)\n            tweet_tags.append(tag)\n    return tokens, tags",
      "execution_count": 145,
      "outputs": []
    },
    {
      "metadata": {},
      "cell_type": "markdown",
      "source": "And now we can load three separate parts of the dataset:\n - *train* data for training the model;\n - *validation* data for evaluation and hyperparameters tuning;\n - *test* data for final evaluation of the model."
    },
    {
      "metadata": {
        "trusted": true
      },
      "cell_type": "code",
      "source": "train_tokens, train_tags = read_data('data/train.txt')\nvalidation_tokens, validation_tags = read_data('data/validation.txt')\ntest_tokens, test_tags = read_data('data/test.txt')",
      "execution_count": 146,
      "outputs": []
    },
    {
      "metadata": {},
      "cell_type": "markdown",
      "source": "You should always understand what kind of data you deal with. For this purpose, you can print the data running the following cell:"
    },
    {
      "metadata": {
        "trusted": true
      },
      "cell_type": "code",
      "source": "for i in range(3):\n    for token, tag in zip(train_tokens[i], train_tags[i]):\n        print('%s\\t%s' % (token, tag))\n    print()",
      "execution_count": 147,
      "outputs": [
        {
          "output_type": "stream",
          "text": "RT\tO\n<USR>\tO\n:\tO\nOnline\tO\nticket\tO\nsales\tO\nfor\tO\nGhostland\tB-musicartist\nObservatory\tI-musicartist\nextended\tO\nuntil\tO\n6\tO\nPM\tO\nEST\tO\ndue\tO\nto\tO\nhigh\tO\ndemand\tO\n.\tO\nGet\tO\nthem\tO\nbefore\tO\nthey\tO\nsell\tO\nout\tO\n...\tO\n\nApple\tB-product\nMacBook\tI-product\nPro\tI-product\nA1278\tI-product\n13.3\tI-product\n\"\tI-product\nLaptop\tI-product\n-\tI-product\nMD101LL/A\tI-product\n(\tO\nJune\tO\n,\tO\n2012\tO\n)\tO\n-\tO\nFull\tO\nread\tO\nby\tO\neBay\tB-company\n<URL>\tO\n<URL>\tO\n\nHappy\tO\nBirthday\tO\n<USR>\tO\n!\tO\nMay\tO\nAllah\tB-person\ns.w.t\tO\nbless\tO\nyou\tO\nwith\tO\ngoodness\tO\nand\tO\nhappiness\tO\n.\tO\n\n",
          "name": "stdout"
        }
      ]
    },
    {
      "metadata": {},
      "cell_type": "markdown",
      "source": "### Prepare dictionaries\n\nTo train a neural network, we will use two mappings: \n- {token}$\\to${token id}: address the row in embeddings matrix for the current token;\n- {tag}$\\to${tag id}: one-hot ground truth probability distribution vectors for computing the loss at the output of the network.\n\nNow you need to implement the function *build_dict* which will return {token or tag}$\\to${index} and vice versa. "
    },
    {
      "metadata": {
        "trusted": true
      },
      "cell_type": "code",
      "source": "from collections import defaultdict",
      "execution_count": 8,
      "outputs": []
    },
    {
      "metadata": {
        "trusted": true
      },
      "cell_type": "code",
      "source": "def build_dict(tokens_or_tags, special_tokens):\n    \"\"\"\n        tokens_or_tags: a list of lists of tokens or tags\n        special_tokens: some special tokens\n    \"\"\"\n    # Create a dictionary with default value 0\n    tok2idx = defaultdict(lambda: 0)\n    idx2tok = []\n    \n    # Create mappings from tokens (or tags) to indices and vice versa.\n    # At first, add special tokens (or tags) to the dictionaries.\n    # The first special token must have index 0.\n    \n    # Mapping tok2idx should contain each token or tag only once. \n    # To do so, you should:\n    # 1. extract unique tokens/tags from the tokens_or_tags variable, which is not\n    #    occur in special_tokens (because they could have non-empty intersection)\n    # 2. index them (for example, you can add them into the list idx2tok\n    # 3. for each token/tag save the index into tok2idx).\n    count = 0\n    #print(tokens_or_tags)\n    for token in special_tokens:\n        tok2idx[token] = count\n        idx2tok.append(token)\n        count+=1\n    for token in tokens_or_tags:\n        for tok in token:\n            if tok not in special_tokens:\n                tok2idx[tok] = count\n                idx2tok.append(tok)\n                count+=1\n    return tok2idx, idx2tok",
      "execution_count": 148,
      "outputs": []
    },
    {
      "metadata": {},
      "cell_type": "markdown",
      "source": "After implementing the function *build_dict* you can make dictionaries for tokens and tags. Special tokens in our case will be:\n - `<UNK>` token for out of vocabulary tokens;\n - `<PAD>` token for padding sentence to the same length when we create batches of sentences."
    },
    {
      "metadata": {
        "trusted": true
      },
      "cell_type": "code",
      "source": "special_tokens = ['<UNK>', '<PAD>']\nspecial_tags = ['O']\n\n# Create dictionaries \ntoken2idx, idx2token = build_dict(train_tokens + validation_tokens, special_tokens)\ntag2idx, idx2tag = build_dict(train_tags, special_tags)",
      "execution_count": 149,
      "outputs": []
    },
    {
      "metadata": {},
      "cell_type": "markdown",
      "source": "The next additional functions will help you to create the mapping between tokens and ids for a sentence. "
    },
    {
      "metadata": {
        "trusted": true
      },
      "cell_type": "code",
      "source": "def words2idxs(tokens_list):\n    return [token2idx[word] for word in tokens_list]\n\ndef tags2idxs(tags_list):\n    return [tag2idx[tag] for tag in tags_list]\n\ndef idxs2words(idxs):\n    return [idx2token[idx] for idx in idxs]\n\ndef idxs2tags(idxs):\n    return [idx2tag[idx] for idx in idxs]",
      "execution_count": 150,
      "outputs": []
    },
    {
      "metadata": {},
      "cell_type": "markdown",
      "source": "### Generate batches\n\nNeural Networks are usually trained with batches. It means that weight updates of the network are based on several sequences at every single time. The tricky part is that all sequences within a batch need to have the same length. So we will pad them with a special `<PAD>` token. It is also a good practice to provide RNN with sequence lengths, so it can skip computations for padding parts. We provide the batching function *batches_generator* readily available for you to save time. "
    },
    {
      "metadata": {
        "trusted": true
      },
      "cell_type": "code",
      "source": "def batches_generator(batch_size, tokens, tags,\n                      shuffle=True, allow_smaller_last_batch=True):\n    \"\"\"Generates padded batches of tokens and tags.\"\"\"\n    \n    n_samples = len(tokens)\n    if shuffle:\n        order = np.random.permutation(n_samples)\n    else:\n        order = np.arange(n_samples)\n\n    n_batches = n_samples // batch_size\n    if allow_smaller_last_batch and n_samples % batch_size:\n        n_batches += 1\n\n    for k in range(n_batches):\n        batch_start = k * batch_size\n        batch_end = min((k + 1) * batch_size, n_samples)\n        current_batch_size = batch_end - batch_start\n        x_list = []\n        y_list = []\n        max_len_token = 0\n        for idx in order[batch_start: batch_end]:\n            x_list.append(words2idxs(tokens[idx]))\n            y_list.append(tags2idxs(tags[idx]))\n            max_len_token = max(max_len_token, len(tags[idx]))\n            \n        # Fill in the data into numpy nd-arrays filled with padding indices.\n        x = np.ones([current_batch_size, max_len_token], dtype=np.int32) * token2idx['<PAD>']\n        y = np.ones([current_batch_size, max_len_token], dtype=np.int32) * tag2idx['O']\n        lengths = np.zeros(current_batch_size, dtype=np.int32)\n        for n in range(current_batch_size):\n            utt_len = len(x_list[n])\n            x[n, :utt_len] = x_list[n]\n            lengths[n] = utt_len\n            y[n, :utt_len] = y_list[n]\n        yield x, y, lengths",
      "execution_count": 151,
      "outputs": []
    },
    {
      "metadata": {},
      "cell_type": "markdown",
      "source": "## Build a recurrent neural network\n\nThis is the most important part of the assignment. Here we will specify the network architecture based on TensorFlow building blocks. It's fun and easy as a lego constructor! We will create an LSTM network which will produce probability distribution over tags for each token in a sentence. To take into account both right and left contexts of the token, we will use Bi-Directional LSTM (Bi-LSTM). Dense layer will be used on top to perform tag classification.  "
    },
    {
      "metadata": {
        "trusted": true
      },
      "cell_type": "code",
      "source": "import tensorflow as tf\nimport numpy as np",
      "execution_count": 21,
      "outputs": []
    },
    {
      "metadata": {
        "trusted": true
      },
      "cell_type": "code",
      "source": "class BiLSTMModel():\n    pass",
      "execution_count": 22,
      "outputs": []
    },
    {
      "metadata": {
        "collapsed": true
      },
      "cell_type": "markdown",
      "source": "First, we need to create [placeholders](https://www.tensorflow.org/versions/master/api_docs/python/tf/placeholder) to specify what data we are going to feed into the network during the execution time.  For this task we will need the following placeholders:\n - *input_batch* — sequences of words (the shape equals to [batch_size, sequence_len]);\n - *ground_truth_tags* — sequences of tags (the shape equals to [batch_size, sequence_len]);\n - *lengths* — lengths of not padded sequences (the shape equals to [batch_size]);\n - *dropout_ph* — dropout keep probability; this placeholder has a predefined value 1;\n - *learning_rate_ph* — learning rate; we need this placeholder because we want to change the value during training.\n\nIt could be noticed that we use *None* in the shapes in the declaration, which means that data of any size can be feeded. \n\nYou need to complete the function *declare_placeholders*."
    },
    {
      "metadata": {
        "trusted": true
      },
      "cell_type": "code",
      "source": "def declare_placeholders(self):\n    \"\"\"Specifies placeholders for the model.\"\"\"\n\n    # Placeholders for input and ground truth output.\n    self.input_batch = tf.placeholder(dtype=tf.int32, shape=[None, None], name='input_batch') \n    self.ground_truth_tags = tf.placeholder(dtype=tf.int32,shape=[None,None],name='ground_truth_tags')\n  \n    # Placeholder for lengths of the sequences.\n    self.lengths = tf.placeholder(dtype=tf.int32, shape=[None], name='lengths') \n    \n    # Placeholder for a dropout keep probability. If we don't feed\n    # a value for this placeholder, it will be equal to 1.0.\n    self.dropout_ph = tf.placeholder_with_default(tf.cast(1.0, tf.float32), shape=[])\n    \n    # Placeholder for a learning rate (tf.float32).\n    self.learning_rate_ph = tf.placeholder(dtype=tf.float32)",
      "execution_count": 23,
      "outputs": []
    },
    {
      "metadata": {
        "trusted": true
      },
      "cell_type": "code",
      "source": "BiLSTMModel.__declare_placeholders = classmethod(declare_placeholders)",
      "execution_count": 24,
      "outputs": []
    },
    {
      "metadata": {
        "collapsed": true
      },
      "cell_type": "markdown",
      "source": "Now, let us specify the layers of the neural network. First, we need to perform some preparatory steps: \n \n- Create embeddings matrix with [tf.Variable](https://www.tensorflow.org/api_docs/python/tf/Variable). Specify its name (*embeddings_matrix*), type  (*tf.float32*), and initialize with random values.\n- Create forward and backward LSTM cells. TensorFlow provides a number of [RNN cells](https://www.tensorflow.org/api_guides/python/contrib.rnn#Core_RNN_Cells_for_use_with_TensorFlow_s_core_RNN_methods) ready for you. We suggest that you use *BasicLSTMCell*, but you can also experiment with other types, e.g. GRU cells. [This](http://colah.github.io/posts/2015-08-Understanding-LSTMs/) blogpost could be interesting if you want to learn more about the differences.\n- Wrap your cells with [DropoutWrapper](https://www.tensorflow.org/api_docs/python/tf/contrib/rnn/DropoutWrapper). Dropout is an important regularization technique for neural networks. Specify all keep probabilities using the dropout placeholder that we created before.\n \nAfter that, you can build the computation graph that transforms an input_batch:\n\n- [Look up](https://www.tensorflow.org/api_docs/python/tf/nn/embedding_lookup) embeddings for an *input_batch* in the prepared *embedding_matrix*.\n- Pass the embeddings through [Bidirectional Dynamic RNN](https://www.tensorflow.org/api_docs/python/tf/nn/bidirectional_dynamic_rnn) with the specified forward and backward cells. Use the lengths placeholder here to avoid computations for padding tokens inside the RNN.\n- Create a dense layer on top. Its output will be used directly in loss function.  \n \nFill in the code below. In case you need to debug something, the easiest way is to check that tensor shapes of each step match the expected ones. \n "
    },
    {
      "metadata": {
        "trusted": true
      },
      "cell_type": "code",
      "source": "def build_layers(self, vocabulary_size, embedding_dim, n_hidden_rnn, n_tags):\n    \"\"\"Specifies bi-LSTM architecture and computes logits for inputs.\"\"\"\n    \n    # Create embedding variable (tf.Variable) with dtype tf.float32\n    initial_embedding_matrix = np.random.randn(vocabulary_size, embedding_dim) / np.sqrt(embedding_dim)\n    embedding_matrix_variable = tf.Variable(initial_embedding_matrix,dtype=tf.float32,name='embeddings_matrix')\n    \n    # Create RNN cells (for example, tf.nn.rnn_cell.BasicLSTMCell) with n_hidden_rnn number of units \n    # and dropout (tf.nn.rnn_cell.DropoutWrapper), initializing all *_keep_prob with dropout placeholder.\n    lstm_cell = tf.nn.rnn_cell.BasicLSTMCell(n_hidden_rnn)\n    forward_cell = tf.contrib.rnn.DropoutWrapper(lstm_cell,input_keep_prob=self.dropout_ph,\n                                                 output_keep_prob=self.dropout_ph,state_keep_prob=self.dropout_ph)\n    backward_cell =  tf.nn.rnn_cell.DropoutWrapper(lstm_cell,input_keep_prob=self.dropout_ph,\n                                                 output_keep_prob=self.dropout_ph,state_keep_prob=self.dropout_ph)\n\n    # Look up embeddings for self.input_batch (tf.nn.embedding_lookup).\n    # Shape: [batch_size, sequence_len, embedding_dim].\n    embeddings =  tf.nn.embedding_lookup(embedding_matrix_variable,self.input_batch)\n    \n    # Pass them through Bidirectional Dynamic RNN (tf.nn.bidirectional_dynamic_rnn).\n    # Shape: [batch_size, sequence_len, 2 * n_hidden_rnn]. \n    # Also don't forget to initialize sequence_length as self.lengths and dtype as tf.float32.\n    (rnn_output_fw, rnn_output_bw), _ =  tf.nn.bidirectional_dynamic_rnn(forward_cell,backward_cell,embeddings,self.lengths,\n                                                                          dtype=tf.float32,)\n    rnn_output = tf.concat([rnn_output_fw, rnn_output_bw], axis=2)\n\n    # Dense layer on top.\n    # Shape: [batch_size, sequence_len, n_tags].   \n    self.logits = tf.layers.dense(rnn_output, n_tags, activation=None)",
      "execution_count": 136,
      "outputs": []
    },
    {
      "metadata": {
        "trusted": true
      },
      "cell_type": "code",
      "source": "BiLSTMModel.__build_layers = classmethod(build_layers)",
      "execution_count": 137,
      "outputs": []
    },
    {
      "metadata": {},
      "cell_type": "markdown",
      "source": "To compute the actual predictions of the neural network, you need to apply [softmax](https://www.tensorflow.org/api_docs/python/tf/nn/softmax) to the last layer and find the most probable tags with [argmax](https://www.tensorflow.org/api_docs/python/tf/argmax)."
    },
    {
      "metadata": {
        "trusted": true
      },
      "cell_type": "code",
      "source": "def compute_predictions(self):\n    \"\"\"Transforms logits to probabilities and finds the most probable tags.\"\"\"\n    \n    # Create softmax (tf.nn.softmax) function\n    softmax_output = tf.nn.softmax(self.logits)\n    \n    # Use argmax (tf.argmax) to get the most probable tags\n    # Don't forget to set axis=-1\n    # otherwise argmax will be calculated in a wrong way\n    self.predictions = tf.argmax(softmax_output,axis=-1)",
      "execution_count": 80,
      "outputs": []
    },
    {
      "metadata": {
        "trusted": true
      },
      "cell_type": "code",
      "source": "BiLSTMModel.__compute_predictions = classmethod(compute_predictions)",
      "execution_count": 81,
      "outputs": []
    },
    {
      "metadata": {
        "collapsed": true
      },
      "cell_type": "markdown",
      "source": "During training we do not need predictions of the network, but we need a loss function. We will use [cross-entropy loss](http://ml-cheatsheet.readthedocs.io/en/latest/loss_functions.html#cross-entropy), efficiently implemented in TF as \n[cross entropy with logits](https://www.tensorflow.org/api_docs/python/tf/nn/softmax_cross_entropy_with_logits). Note that it should be applied to logits of the model (not to softmax probabilities!). Also note,  that we do not want to take into account loss terms coming from `<PAD>` tokens. So we need to mask them out, before computing [mean](https://www.tensorflow.org/api_docs/python/tf/reduce_mean)."
    },
    {
      "metadata": {
        "trusted": true
      },
      "cell_type": "code",
      "source": "def compute_loss(self, n_tags, PAD_index):\n    \"\"\"Computes masked cross-entopy loss with logits.\"\"\"\n    \n    # Create cross entropy function function (tf.nn.softmax_cross_entropy_with_logits)\n    ground_truth_tags_one_hot = tf.one_hot(self.ground_truth_tags, n_tags)\n    loss_tensor =  tf.nn.softmax_cross_entropy_with_logits(labels=ground_truth_tags_one_hot,logits=self.logits)\n    \n    mask = tf.cast(tf.not_equal(self.input_batch, PAD_index), tf.float32)\n    # Create loss function which doesn't operate with <PAD> tokens (tf.reduce_mean)\n    # Be careful that the argument of tf.reduce_mean should be\n    # multiplication of mask and loss_tensor.\n    self.loss =  tf.reduce_mean(tf.multiply(loss_tensor,mask))",
      "execution_count": 154,
      "outputs": []
    },
    {
      "metadata": {
        "trusted": true
      },
      "cell_type": "code",
      "source": "BiLSTMModel.__compute_loss = classmethod(compute_loss)",
      "execution_count": 155,
      "outputs": []
    },
    {
      "metadata": {},
      "cell_type": "markdown",
      "source": "The last thing to specify is how we want to optimize the loss. \nWe suggest that you use [Adam](https://www.tensorflow.org/api_docs/python/tf/train/AdamOptimizer) optimizer with a learning rate from the corresponding placeholder. \nYou will also need to apply [clipping](https://www.tensorflow.org/api_guides/python/train#Gradient_Clipping) to eliminate exploding gradients. It can be easily done with [clip_by_norm](https://www.tensorflow.org/api_docs/python/tf/clip_by_norm) function. "
    },
    {
      "metadata": {
        "trusted": true
      },
      "cell_type": "code",
      "source": "def perform_optimization(self):\n    \"\"\"Specifies the optimizer and train_op for the model.\"\"\"\n    \n    # Create an optimizer (tf.train.AdamOptimizer)\n    self.optimizer =  tf.train.AdamOptimizer(self.learning_rate_ph)\n    self.grads_and_vars = self.optimizer.compute_gradients(self.loss)\n    \n    # Gradient clipping (tf.clip_by_norm) for self.grads_and_vars\n    # Pay attention that you need to apply this operation only for gradients \n    # because self.grads_and_vars also contains variables.\n    # list comprehension might be useful in this case.\n    clip_norm = tf.cast(1.0, tf.float32)\n    self.grads_and_vars =  [(tf.clip_by_norm(gradients,clip_norm),variables) for gradients,variables in self.grads_and_vars]\n    \n    self.train_op = self.optimizer.apply_gradients(self.grads_and_vars)",
      "execution_count": 118,
      "outputs": []
    },
    {
      "metadata": {
        "trusted": true
      },
      "cell_type": "code",
      "source": "BiLSTMModel.__perform_optimization = classmethod(perform_optimization)",
      "execution_count": 119,
      "outputs": []
    },
    {
      "metadata": {
        "collapsed": true
      },
      "cell_type": "markdown",
      "source": "Congratulations! You have specified all the parts of your network. You may have noticed, that we didn't deal with any real data yet, so what you have written is just recipes on how the network should function.\nNow we will put them to the constructor of our Bi-LSTM class to use it in the next section. "
    },
    {
      "metadata": {
        "trusted": true
      },
      "cell_type": "code",
      "source": "def init_model(self, vocabulary_size, n_tags, embedding_dim, n_hidden_rnn, PAD_index):\n    self.__declare_placeholders()\n    self.__build_layers(vocabulary_size, embedding_dim, n_hidden_rnn, n_tags)\n    self.__compute_predictions()\n    self.__compute_loss(n_tags, PAD_index)\n    self.__perform_optimization()",
      "execution_count": 86,
      "outputs": []
    },
    {
      "metadata": {
        "trusted": true
      },
      "cell_type": "code",
      "source": "BiLSTMModel.__init__ = classmethod(init_model)",
      "execution_count": 87,
      "outputs": []
    },
    {
      "metadata": {},
      "cell_type": "markdown",
      "source": "## Train the network and predict tags"
    },
    {
      "metadata": {
        "collapsed": true
      },
      "cell_type": "markdown",
      "source": "[Session.run](https://www.tensorflow.org/api_docs/python/tf/Session#run) is a point which initiates computations in the graph that we have defined. To train the network, we need to compute *self.train_op*, which was declared in *perform_optimization*. To predict tags, we just need to compute *self.predictions*. Anyway, we need to feed actual data through the placeholders that we defined before. "
    },
    {
      "metadata": {
        "trusted": true
      },
      "cell_type": "code",
      "source": "def train_on_batch(self, session, x_batch, y_batch, lengths, learning_rate, dropout_keep_probability):\n    feed_dict = {self.input_batch: x_batch,\n                 self.ground_truth_tags: y_batch,\n                 self.learning_rate_ph: learning_rate,\n                 self.dropout_ph: dropout_keep_probability,\n                 self.lengths: lengths}\n    \n    session.run(self.train_op, feed_dict=feed_dict)",
      "execution_count": 88,
      "outputs": []
    },
    {
      "metadata": {
        "trusted": true
      },
      "cell_type": "code",
      "source": "BiLSTMModel.train_on_batch = classmethod(train_on_batch)",
      "execution_count": 89,
      "outputs": []
    },
    {
      "metadata": {},
      "cell_type": "markdown",
      "source": "Implement the function *predict_for_batch* by initializing *feed_dict* with input *x_batch* and *lengths* and running the *session* for *self.predictions*."
    },
    {
      "metadata": {
        "trusted": true
      },
      "cell_type": "code",
      "source": "def predict_for_batch(self, session, x_batch, lengths):\n    predictions = session.run(self.predictions,feed_dict={self.input_batch:x_batch,self.lengths:lengths})\n    return predictions",
      "execution_count": 127,
      "outputs": []
    },
    {
      "metadata": {
        "trusted": true
      },
      "cell_type": "code",
      "source": "BiLSTMModel.predict_for_batch = classmethod(predict_for_batch)",
      "execution_count": 128,
      "outputs": []
    },
    {
      "metadata": {},
      "cell_type": "markdown",
      "source": "We finished with necessary methods of our BiLSTMModel model and almost ready to start experimenting.\n\n### Evaluation \nTo simplify the evaluation process we provide two functions for you:\n - *predict_tags*: uses a model to get predictions and transforms indices to tokens and tags;\n - *eval_conll*: calculates precision, recall and F1 for the results."
    },
    {
      "metadata": {
        "trusted": true
      },
      "cell_type": "code",
      "source": "from evaluation import precision_recall_f1",
      "execution_count": 92,
      "outputs": []
    },
    {
      "metadata": {
        "trusted": true
      },
      "cell_type": "code",
      "source": "def predict_tags(model, session, token_idxs_batch, lengths):\n    \"\"\"Performs predictions and transforms indices to tokens and tags.\"\"\"\n    \n    tag_idxs_batch = model.predict_for_batch(session, token_idxs_batch, lengths)\n    \n    tags_batch, tokens_batch = [], []\n    for tag_idxs, token_idxs in zip(tag_idxs_batch, token_idxs_batch):\n        tags, tokens = [], []\n        for tag_idx, token_idx in zip(tag_idxs, token_idxs):\n            tags.append(idx2tag[tag_idx])\n            tokens.append(idx2token[token_idx])\n        tags_batch.append(tags)\n        tokens_batch.append(tokens)\n    return tags_batch, tokens_batch\n    \n    \ndef eval_conll(model, session, tokens, tags, short_report=True):\n    \"\"\"Computes NER quality measures using CONLL shared task script.\"\"\"\n    \n    y_true, y_pred = [], []\n    for x_batch, y_batch, lengths in batches_generator(1, tokens, tags):\n        tags_batch, tokens_batch = predict_tags(model, session, x_batch, lengths)\n        if len(x_batch[0]) != len(tags_batch[0]):\n            raise Exception(\"Incorrect length of prediction for the input, \"\n                            \"expected length: %i, got: %i\" % (len(x_batch[0]), len(tags_batch[0])))\n        predicted_tags = []\n        ground_truth_tags = []\n        for gt_tag_idx, pred_tag, token in zip(y_batch[0], tags_batch[0], tokens_batch[0]): \n            if token != '<PAD>':\n                ground_truth_tags.append(idx2tag[gt_tag_idx])\n                predicted_tags.append(pred_tag)\n\n        # We extend every prediction and ground truth sequence with 'O' tag\n        # to indicate a possible end of entity.\n        y_true.extend(ground_truth_tags + ['O'])\n        y_pred.extend(predicted_tags + ['O'])\n        \n    results = precision_recall_f1(y_true, y_pred, print_results=True, short_report=short_report)\n    return results",
      "execution_count": 93,
      "outputs": []
    },
    {
      "metadata": {
        "trusted": true
      },
      "cell_type": "code",
      "source": "len(idx2token)",
      "execution_count": 156,
      "outputs": [
        {
          "output_type": "execute_result",
          "execution_count": 156,
          "data": {
            "text/plain": "20505"
          },
          "metadata": {}
        }
      ]
    },
    {
      "metadata": {
        "trusted": true
      },
      "cell_type": "code",
      "source": "len(idx2tag)",
      "execution_count": 157,
      "outputs": [
        {
          "output_type": "execute_result",
          "execution_count": 157,
          "data": {
            "text/plain": "21"
          },
          "metadata": {}
        }
      ]
    },
    {
      "metadata": {},
      "cell_type": "markdown",
      "source": "## Run your experiment"
    },
    {
      "metadata": {},
      "cell_type": "markdown",
      "source": "Create *BiLSTMModel* model with the following parameters:\n - *vocabulary_size* — number of tokens;\n - *n_tags* — number of tags;\n - *embedding_dim* — dimension of embeddings, recommended value: 200;\n - *n_hidden_rnn* — size of hidden layers for RNN, recommended value: 200;\n - *PAD_index* — an index of the padding token (`<PAD>`).\n\nSet hyperparameters. You might want to start with the following recommended values:\n- *batch_size*: 32;\n- 4 epochs;\n- starting value of *learning_rate*: 0.005\n- *learning_rate_decay*: a square root of 2;\n- *dropout_keep_probability*: try several values: 0.1, 0.5, 0.9.\n\nHowever, feel free to conduct more experiments to tune hyperparameters and earn extra points for the assignment."
    },
    {
      "metadata": {
        "trusted": true
      },
      "cell_type": "code",
      "source": "tf.reset_default_graph()\n\nmodel = BiLSTMModel(len(idx2token),len(idx2tag),200,200,0)\n\nbatch_size = 32\nn_epochs = 4\nlearning_rate = 0.005\nlearning_rate_decay = 1.414\ndropout_keep_probability = 0.5",
      "execution_count": 158,
      "outputs": []
    },
    {
      "metadata": {},
      "cell_type": "markdown",
      "source": "If you got an error *\"Tensor conversion requested dtype float64 for Tensor with dtype float32\"* in this point, check if there are variables without dtype initialised. Set the value of dtype equals to *tf.float32* for such variables."
    },
    {
      "metadata": {},
      "cell_type": "markdown",
      "source": "Finally, we are ready to run the training!"
    },
    {
      "metadata": {
        "trusted": true
      },
      "cell_type": "code",
      "source": "sess = tf.Session()\nsess.run(tf.global_variables_initializer())\n\nprint('Start training... \\n')\nfor epoch in range(n_epochs):\n    # For each epoch evaluate the model on train and validation data\n    print('-' * 20 + ' Epoch {} '.format(epoch+1) + 'of {} '.format(n_epochs) + '-' * 20)\n    print('Train data evaluation:')\n    eval_conll(model, sess, train_tokens, train_tags, short_report=True)\n    print('Validation data evaluation:')\n    eval_conll(model, sess, validation_tokens, validation_tags, short_report=True)\n    \n    # Train the model\n    for x_batch, y_batch, lengths in batches_generator(batch_size, train_tokens, train_tags):\n        model.train_on_batch(sess, x_batch, y_batch, lengths, learning_rate, dropout_keep_probability)\n        \n    # Decaying the learning rate\n    learning_rate = learning_rate / learning_rate_decay\n    \nprint('...training finished.')",
      "execution_count": 159,
      "outputs": [
        {
          "output_type": "stream",
          "text": "Start training... \n\n-------------------- Epoch 1 of 4 --------------------\nTrain data evaluation:\nprocessed 105778 tokens with 4489 phrases; found: 76857 phrases; correct: 184.\n\nprecision:  0.24%; recall:  4.10%; F1:  0.45\n\nValidation data evaluation:\nprocessed 12836 tokens with 537 phrases; found: 9426 phrases; correct: 26.\n\nprecision:  0.28%; recall:  4.84%; F1:  0.52\n\n-------------------- Epoch 2 of 4 --------------------\nTrain data evaluation:\nprocessed 105778 tokens with 4489 phrases; found: 1593 phrases; correct: 388.\n\nprecision:  24.36%; recall:  8.64%; F1:  12.76\n\nValidation data evaluation:\nprocessed 12836 tokens with 537 phrases; found: 155 phrases; correct: 31.\n\nprecision:  20.00%; recall:  5.77%; F1:  8.96\n\n-------------------- Epoch 3 of 4 --------------------\nTrain data evaluation:\nprocessed 105778 tokens with 4489 phrases; found: 4478 phrases; correct: 1565.\n\nprecision:  34.95%; recall:  34.86%; F1:  34.91\n\nValidation data evaluation:\nprocessed 12836 tokens with 537 phrases; found: 316 phrases; correct: 106.\n\nprecision:  33.54%; recall:  19.74%; F1:  24.85\n\n-------------------- Epoch 4 of 4 --------------------\nTrain data evaluation:\nprocessed 105778 tokens with 4489 phrases; found: 4147 phrases; correct: 2466.\n\nprecision:  59.46%; recall:  54.93%; F1:  57.11\n\nValidation data evaluation:\nprocessed 12836 tokens with 537 phrases; found: 339 phrases; correct: 155.\n\nprecision:  45.72%; recall:  28.86%; F1:  35.39\n\n...training finished.\n",
          "name": "stdout"
        }
      ]
    },
    {
      "metadata": {},
      "cell_type": "markdown",
      "source": "Now let us see full quality reports for the final model on train, validation, and test sets. To give you a hint whether you have implemented everything correctly, you might expect F-score about 40% on the validation set.\n\n**The output of the cell below (as well as the output of all the other cells) should be present in the notebook for peer2peer review!**"
    },
    {
      "metadata": {
        "trusted": true
      },
      "cell_type": "code",
      "source": "print('-' * 20 + ' Train set quality: ' + '-' * 20)\ntrain_results = eval_conll(model, sess, train_tokens, train_tags, short_report=False)\n\nprint('-' * 20 + ' Validation set quality: ' + '-' * 20)\nvalidation_results = eval_conll(model, sess, validation_tokens, validation_tags, short_report=False)\n\nprint('-' * 20 + ' Test set quality: ' + '-' * 20)\ntest_results = eval_conll(model, sess, test_tokens, test_tags, short_report=False)",
      "execution_count": 160,
      "outputs": [
        {
          "output_type": "stream",
          "text": "-------------------- Train set quality: --------------------\nprocessed 105778 tokens with 4489 phrases; found: 4599 phrases; correct: 3166.\n\nprecision:  68.84%; recall:  70.53%; F1:  69.67\n\n\t     company: precision:   80.81%; recall:   77.92%; F1:   79.33; predicted:   620\n\n\t    facility: precision:   61.52%; recall:   67.20%; F1:   64.23; predicted:   343\n\n\t     geo-loc: precision:   73.09%; recall:   90.26%; F1:   80.77; predicted:  1230\n\n\t       movie: precision:    0.00%; recall:    0.00%; F1:    0.00; predicted:     0\n\n\t musicartist: precision:   40.35%; recall:    9.91%; F1:   15.92; predicted:    57\n\n\t       other: precision:   60.99%; recall:   71.86%; F1:   65.98; predicted:   892\n\n\t      person: precision:   74.98%; recall:   91.99%; F1:   82.62; predicted:  1087\n\n\t     product: precision:   46.76%; recall:   54.40%; F1:   50.29; predicted:   370\n\n\t  sportsteam: precision:    0.00%; recall:    0.00%; F1:    0.00; predicted:     0\n\n\t      tvshow: precision:    0.00%; recall:    0.00%; F1:    0.00; predicted:     0\n\n-------------------- Validation set quality: --------------------\nprocessed 12836 tokens with 537 phrases; found: 419 phrases; correct: 182.\n\nprecision:  43.44%; recall:  33.89%; F1:  38.08\n\n\t     company: precision:   68.49%; recall:   48.08%; F1:   56.50; predicted:    73\n\n\t    facility: precision:   42.31%; recall:   32.35%; F1:   36.67; predicted:    26\n\n\t     geo-loc: precision:   60.64%; recall:   50.44%; F1:   55.07; predicted:    94\n\n\t       movie: precision:    0.00%; recall:    0.00%; F1:    0.00; predicted:     0\n\n\t musicartist: precision:    0.00%; recall:    0.00%; F1:    0.00; predicted:     5\n\n\t       other: precision:   27.84%; recall:   33.33%; F1:   30.34; predicted:    97\n\n\t      person: precision:   45.83%; recall:   29.46%; F1:   35.87; predicted:    72\n\n\t     product: precision:    7.69%; recall:   11.76%; F1:    9.30; predicted:    52\n\n\t  sportsteam: precision:    0.00%; recall:    0.00%; F1:    0.00; predicted:     0\n\n\t      tvshow: precision:    0.00%; recall:    0.00%; F1:    0.00; predicted:     0\n\n-------------------- Test set quality: --------------------\nprocessed 13258 tokens with 604 phrases; found: 463 phrases; correct: 206.\n\nprecision:  44.49%; recall:  34.11%; F1:  38.61\n\n\t     company: precision:   67.44%; recall:   34.52%; F1:   45.67; predicted:    43\n\n\t    facility: precision:   31.71%; recall:   27.66%; F1:   29.55; predicted:    41\n\n\t     geo-loc: precision:   69.11%; recall:   51.52%; F1:   59.03; predicted:   123\n\n\t       movie: precision:    0.00%; recall:    0.00%; F1:    0.00; predicted:     0\n\n\t musicartist: precision:    0.00%; recall:    0.00%; F1:    0.00; predicted:     4\n\n\t       other: precision:   27.35%; recall:   31.07%; F1:   29.09; predicted:   117\n\n\t      person: precision:   56.25%; recall:   43.27%; F1:   48.91; predicted:    80\n\n\t     product: precision:    3.64%; recall:    7.14%; F1:    4.82; predicted:    55\n\n\t  sportsteam: precision:    0.00%; recall:    0.00%; F1:    0.00; predicted:     0\n\n\t      tvshow: precision:    0.00%; recall:    0.00%; F1:    0.00; predicted:     0\n\n",
          "name": "stdout"
        }
      ]
    },
    {
      "metadata": {},
      "cell_type": "markdown",
      "source": "### Conclusions\n\nCould we say that our model is state of the art and the results are acceptable for the task? Definately, we can say so. Nowadays, Bi-LSTM is one of the state of the art approaches for solving NER problem and it outperforms other classical methods. Despite the fact that we used small training corpora (in comparison with usual sizes of corpora in Deep Learning), our results are quite good. In addition, in this task there are many possible named entities and for some of them we have only several dozens of trainig examples, which is definately small. However, the implemented model outperforms classical CRFs for this task. Even better results could be obtained by some combinations of several types of methods, e.g. see [this](https://arxiv.org/abs/1603.01354) paper if you are interested."
    }
  ],
  "metadata": {
    "kernelspec": {
      "name": "python36",
      "display_name": "Python 3.6",
      "language": "python"
    },
    "language_info": {
      "mimetype": "text/x-python",
      "nbconvert_exporter": "python",
      "name": "python",
      "pygments_lexer": "ipython3",
      "version": "3.6.3",
      "file_extension": ".py",
      "codemirror_mode": {
        "version": 3,
        "name": "ipython"
      }
    }
  },
  "nbformat": 4,
  "nbformat_minor": 1
}