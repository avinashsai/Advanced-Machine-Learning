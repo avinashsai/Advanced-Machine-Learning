{
  "cells": [
    {
      "metadata": {},
      "cell_type": "markdown",
      "source": "# Predict tags on StackOverflow with linear models"
    },
    {
      "metadata": {},
      "cell_type": "markdown",
      "source": "In this assignment you will learn how to predict tags for posts from [StackOverflow](https://stackoverflow.com). To solve this task you will use multilabel classification approach.\n\n### Libraries\n\nIn this task you will need the following libraries:\n- [Numpy](http://www.numpy.org) — a package for scientific computing.\n- [Pandas](https://pandas.pydata.org) — a library providing high-performance, easy-to-use data structures and data analysis tools for the Python\n- [scikit-learn](http://scikit-learn.org/stable/index.html) — a tool for data mining and data analysis.\n- [NLTK](http://www.nltk.org) — a platform to work with natural language."
    },
    {
      "metadata": {},
      "cell_type": "markdown",
      "source": "### Data\n\nThe following cell will download all data required for this assignment into the folder `week1/data`."
    },
    {
      "metadata": {
        "trusted": true
      },
      "cell_type": "code",
      "source": "import sys\nsys.path.append(\"..\")\nfrom common.download_utils import download_week1_resources\n\ndownload_week1_resources()",
      "execution_count": 1,
      "outputs": [
        {
          "output_type": "display_data",
          "data": {
            "application/vnd.jupyter.widget-view+json": {
              "model_id": "93f189dc1e394cc39a069f105607dfc9",
              "version_minor": 0,
              "version_major": 2
            },
            "text/plain": "HBox(children=(IntProgress(value=0, max=7196138), HTML(value='')))"
          },
          "metadata": {}
        },
        {
          "output_type": "stream",
          "text": "\n",
          "name": "stdout"
        },
        {
          "output_type": "display_data",
          "data": {
            "application/vnd.jupyter.widget-view+json": {
              "model_id": "d9cf3f39d9864b5f980e96f55b264523",
              "version_minor": 0,
              "version_major": 2
            },
            "text/plain": "HBox(children=(IntProgress(value=0, max=2166270), HTML(value='')))"
          },
          "metadata": {}
        },
        {
          "output_type": "stream",
          "text": "\n",
          "name": "stdout"
        },
        {
          "output_type": "display_data",
          "data": {
            "application/vnd.jupyter.widget-view+json": {
              "model_id": "0c4f618b5f984a8b815d6de7fcf30a6f",
              "version_minor": 0,
              "version_major": 2
            },
            "text/plain": "HBox(children=(IntProgress(value=0, max=1041379), HTML(value='')))"
          },
          "metadata": {}
        },
        {
          "output_type": "stream",
          "text": "\n",
          "name": "stdout"
        },
        {
          "output_type": "display_data",
          "data": {
            "application/vnd.jupyter.widget-view+json": {
              "model_id": "acfbd9907f2f4b9b9340714cf735505e",
              "version_minor": 0,
              "version_major": 2
            },
            "text/plain": "HBox(children=(IntProgress(value=0, max=5091), HTML(value='')))"
          },
          "metadata": {}
        },
        {
          "output_type": "stream",
          "text": "\n",
          "name": "stdout"
        }
      ]
    },
    {
      "metadata": {},
      "cell_type": "markdown",
      "source": "### Grading\nWe will create a grader instance below and use it to collect your answers. Note that these outputs will be stored locally inside grader and will be uploaded to platform only after running submitting function in the last part of this assignment. If you want to make partial submission, you can run that cell any time you want."
    },
    {
      "metadata": {
        "trusted": true
      },
      "cell_type": "code",
      "source": "from grader import Grader",
      "execution_count": 12,
      "outputs": []
    },
    {
      "metadata": {
        "trusted": true
      },
      "cell_type": "code",
      "source": "grader = Grader()",
      "execution_count": 3,
      "outputs": []
    },
    {
      "metadata": {},
      "cell_type": "markdown",
      "source": "### Text preprocessing"
    },
    {
      "metadata": {},
      "cell_type": "markdown",
      "source": "For this and most of the following assignments you will need to use a list of stop words. It can be downloaded from *nltk*:"
    },
    {
      "metadata": {},
      "cell_type": "markdown",
      "source": "In this task you will deal with a dataset of post titles from StackOverflow. You are provided a split to 3 sets: *train*, *validation* and *test*. All corpora (except for *test*) contain titles of the posts and corresponding tags (100 tags are available). The *test* set is provided for Coursera's grading and doesn't contain answers. Upload the corpora using *pandas* and look at the data:"
    },
    {
      "metadata": {
        "trusted": true
      },
      "cell_type": "code",
      "source": "import nltk\nnltk.download('stopwords')\nfrom nltk.corpus import stopwords",
      "execution_count": null,
      "outputs": []
    },
    {
      "metadata": {
        "trusted": true
      },
      "cell_type": "code",
      "source": "from ast import literal_eval\nimport pandas as pd\nimport numpy as np",
      "execution_count": 5,
      "outputs": []
    },
    {
      "metadata": {
        "trusted": true
      },
      "cell_type": "code",
      "source": "def read_data(filename):\n    data = pd.read_csv(filename, sep='\\t')\n    data['tags'] = data['tags'].apply(literal_eval)\n    return data",
      "execution_count": 6,
      "outputs": []
    },
    {
      "metadata": {
        "trusted": true
      },
      "cell_type": "code",
      "source": "train = read_data('data/train.tsv')\nvalidation = read_data('data/validation.tsv')\ntest = pd.read_csv('data/test.tsv', sep='\\t')",
      "execution_count": 7,
      "outputs": []
    },
    {
      "metadata": {
        "trusted": true
      },
      "cell_type": "code",
      "source": "train.head()",
      "execution_count": 8,
      "outputs": [
        {
          "output_type": "execute_result",
          "execution_count": 8,
          "data": {
            "text/plain": "                                               title                  tags\n0                How to draw a stacked dotplot in R?                   [r]\n1  mysql select all records where a datetime fiel...          [php, mysql]\n2             How to terminate windows phone 8.1 app                  [c#]\n3  get current time in a specific country via jquery  [javascript, jquery]\n4                      Configuring Tomcat to Use SSL                [java]",
            "text/html": "<div>\n<table border=\"1\" class=\"dataframe\">\n  <thead>\n    <tr style=\"text-align: right;\">\n      <th></th>\n      <th>title</th>\n      <th>tags</th>\n    </tr>\n  </thead>\n  <tbody>\n    <tr>\n      <th>0</th>\n      <td>How to draw a stacked dotplot in R?</td>\n      <td>[r]</td>\n    </tr>\n    <tr>\n      <th>1</th>\n      <td>mysql select all records where a datetime fiel...</td>\n      <td>[php, mysql]</td>\n    </tr>\n    <tr>\n      <th>2</th>\n      <td>How to terminate windows phone 8.1 app</td>\n      <td>[c#]</td>\n    </tr>\n    <tr>\n      <th>3</th>\n      <td>get current time in a specific country via jquery</td>\n      <td>[javascript, jquery]</td>\n    </tr>\n    <tr>\n      <th>4</th>\n      <td>Configuring Tomcat to Use SSL</td>\n      <td>[java]</td>\n    </tr>\n  </tbody>\n</table>\n</div>"
          },
          "metadata": {}
        }
      ]
    },
    {
      "metadata": {
        "trusted": true
      },
      "cell_type": "code",
      "source": "len(test)",
      "execution_count": 10,
      "outputs": [
        {
          "output_type": "execute_result",
          "execution_count": 10,
          "data": {
            "text/plain": "20000"
          },
          "metadata": {}
        }
      ]
    },
    {
      "metadata": {},
      "cell_type": "markdown",
      "source": "As you can see, *title* column contains titles of the posts and *tags* column contains the tags. It could be noticed that a number of tags for a post is not fixed and could be as many as necessary."
    },
    {
      "metadata": {},
      "cell_type": "markdown",
      "source": "For a more comfortable usage, initialize *X_train*, *X_val*, *X_test*, *y_train*, *y_val*."
    },
    {
      "metadata": {
        "trusted": true
      },
      "cell_type": "code",
      "source": "X_train, y_train = train['title'].values, train['tags'].values\nX_val, y_val = validation['title'].values, validation['tags'].values\nX_test = test['title'].values",
      "execution_count": 11,
      "outputs": []
    },
    {
      "metadata": {},
      "cell_type": "markdown",
      "source": "One of the most known difficulties when working with natural data is that it's unstructured. For example, if you use it \"as is\" and extract tokens just by splitting the titles by whitespaces, you will see that there are many \"weird\" tokens like *3.5?*, *\"Flip*, etc. To prevent the problems, it's usually useful to prepare the data somehow. In this task you'll write a function, which will be also used in the other assignments. \n\n**Task 1 (TextPrepare).** Implement the function *text_prepare* following the instructions. After that, run the function *test_test_prepare* to test it on tiny cases and submit it to Coursera."
    },
    {
      "metadata": {
        "trusted": true
      },
      "cell_type": "code",
      "source": "import re",
      "execution_count": 13,
      "outputs": []
    },
    {
      "metadata": {
        "trusted": true
      },
      "cell_type": "code",
      "source": "REPLACE_BY_SPACE_RE = re.compile('[/(){}\\[\\]\\|@,;]')\nBAD_SYMBOLS_RE = re.compile('[^0-9a-z #+_]')\nSTOPWORDS = set(stopwords.words('english'))\n\ndef text_prepare(text):\n    \"\"\"\n        text: a string\n        \n        return: modified initial string\n    \"\"\"\n    text = text.lower()\n    text = re.sub(REPLACE_BY_SPACE_RE,\" \",str(text))\n    text = re.sub(BAD_SYMBOLS_RE,'',str(text))\n    text = \" \".join(word for word in text.split() if word not in STOPWORDS )\n    return text",
      "execution_count": 15,
      "outputs": []
    },
    {
      "metadata": {
        "trusted": true
      },
      "cell_type": "code",
      "source": "def test_text_prepare():\n    examples = [\"SQL Server - any equivalent of Excel's CHOOSE function?\",\n                \"How to free c++ memory vector<int> * arr?\"]\n    answers = [\"sql server equivalent excels choose function\", \n               \"free c++ memory vectorint arr\"]\n    for ex, ans in zip(examples, answers):\n        if text_prepare(ex) != ans:\n            return \"Wrong answer for the case: '%s'\" % ex\n    return 'Basic tests are passed.'",
      "execution_count": 16,
      "outputs": []
    },
    {
      "metadata": {
        "trusted": true
      },
      "cell_type": "code",
      "source": "print(test_text_prepare())",
      "execution_count": 17,
      "outputs": [
        {
          "output_type": "stream",
          "text": "Basic tests are passed.\n",
          "name": "stdout"
        }
      ]
    },
    {
      "metadata": {},
      "cell_type": "markdown",
      "source": "Run your implementation for questions from file *text_prepare_tests.tsv* to earn the points."
    },
    {
      "metadata": {
        "trusted": true
      },
      "cell_type": "code",
      "source": "prepared_questions = []\nfor line in open('data/text_prepare_tests.tsv', encoding='utf-8'):\n    line = text_prepare(line.strip())\n    prepared_questions.append(line)\ntext_prepare_results = '\\n'.join(prepared_questions)\n\ngrader.submit_tag('TextPrepare', text_prepare_results)",
      "execution_count": 18,
      "outputs": [
        {
          "output_type": "stream",
          "text": "Current answer for task TextPrepare is:\n sqlite php readonly\ncreating multiple textboxes dynamically\nself one prefer javascript\nsave php date...\n",
          "name": "stdout"
        }
      ]
    },
    {
      "metadata": {},
      "cell_type": "markdown",
      "source": "Now we can preprocess the titles using function *text_prepare* and  making sure that the headers don't have bad symbols:"
    },
    {
      "metadata": {
        "trusted": true
      },
      "cell_type": "code",
      "source": "X_train = [text_prepare(x) for x in X_train]\nX_val = [text_prepare(x) for x in X_val]\nX_test = [text_prepare(x) for x in X_test]",
      "execution_count": 19,
      "outputs": []
    },
    {
      "metadata": {
        "trusted": true
      },
      "cell_type": "code",
      "source": "X_train[:3]",
      "execution_count": 20,
      "outputs": [
        {
          "output_type": "execute_result",
          "execution_count": 20,
          "data": {
            "text/plain": "['draw stacked dotplot r',\n 'mysql select records datetime field less specified value',\n 'terminate windows phone 81 app']"
          },
          "metadata": {}
        }
      ]
    },
    {
      "metadata": {
        "trusted": true
      },
      "cell_type": "code",
      "source": "y_train[1]",
      "execution_count": 24,
      "outputs": [
        {
          "output_type": "execute_result",
          "execution_count": 24,
          "data": {
            "text/plain": "['php', 'mysql']"
          },
          "metadata": {}
        }
      ]
    },
    {
      "metadata": {},
      "cell_type": "markdown",
      "source": "For each tag and for each word calculate how many times they occur in the train corpus. \n\n**Task 2 (WordsTagsCount).** Find 3 most popular tags and 3 most popular words in the train data and submit the results to earn the points."
    },
    {
      "metadata": {
        "trusted": true
      },
      "cell_type": "code",
      "source": "# Dictionary of all tags from train corpus with their counts.\ntags_counts = {}\n# Dictionary of all words from train corpus with their counts.\nwords_counts = {}\nfor tags in y_train:\n    for tag in tags:\n        if(tag not in tags_counts):\n            tags_counts[tag]=1\n        else:\n            tags_counts[tag]+=1\n            \nfor sentence in X_train:\n    sent = sentence.split()\n    for word in sent:\n        if(word not in words_counts):\n            words_counts[word]=1\n        else:\n            words_counts[word]+=1",
      "execution_count": 32,
      "outputs": []
    },
    {
      "metadata": {},
      "cell_type": "markdown",
      "source": "We are assuming that *tags_counts* and *words_counts* are dictionaries like `{'some_word_or_tag': frequency}`. After applying the sorting procedure, results will be look like this: `[('most_popular_word_or_tag', frequency), ('less_popular_word_or_tag', frequency), ...]`. The grader gets the results in the following format (two comma-separated strings with line break):\n\n    tag1,tag2,tag3\n    word1,word2,word3\n\nPay attention that in this assignment you should not submit frequencies or some additional information."
    },
    {
      "metadata": {
        "trusted": true
      },
      "cell_type": "code",
      "source": "most_common_tags = sorted(tags_counts.items(), key=lambda x: x[1], reverse=True)[:3]\nmost_common_words = sorted(words_counts.items(), key=lambda x: x[1], reverse=True)[:3]\n\ngrader.submit_tag('WordsTagsCount', '%s\\n%s' % (','.join(tag for tag, _ in most_common_tags), \n                                                ','.join(word for word, _ in most_common_words)))",
      "execution_count": 35,
      "outputs": [
        {
          "output_type": "stream",
          "text": "Current answer for task WordsTagsCount is:\n javascript,c#,java\nusing,php,java...\n",
          "name": "stdout"
        }
      ]
    },
    {
      "metadata": {},
      "cell_type": "markdown",
      "source": "### Transforming text to a vector\n\nMachine Learning algorithms work with numeric data and we cannot use the provided text data \"as is\". There are many ways to transform text data to numeric vectors. In this task you will try to use two of them.\n\n#### Bag of words\n\nOne of the well-known approaches is a *bag-of-words* representation. To create this transformation, follow the steps:\n1. Find *N* most popular words in train corpus and numerate them. Now we have a dictionary of the most popular words.\n2. For each title in the corpora create a zero vector with the dimension equals to *N*.\n3. For each text in the corpora iterate over words which are in the dictionary and increase by 1 the corresponding coordinate.\n\nLet's try to do it for a toy example. Imagine that we have *N* = 4 and the list of the most popular words is \n\n    ['hi', 'you', 'me', 'are']\n\nThen we need to numerate them, for example, like this: \n\n    {'hi': 0, 'you': 1, 'me': 2, 'are': 3}\n\nAnd we have the text, which we want to transform to the vector:\n\n    'hi how are you'\n\nFor this text we create a corresponding zero vector \n\n    [0, 0, 0, 0]\n    \nAnd iterate over all words, and if the word is in the dictionary, we increase the value of the corresponding position in the vector:\n\n    'hi':  [1, 0, 0, 0]\n    'how': [1, 0, 0, 0] # word 'how' is not in our dictionary\n    'are': [1, 0, 0, 1]\n    'you': [1, 1, 0, 1]\n\nThe resulting vector will be \n\n    [1, 1, 0, 1]\n   \nImplement the described encoding in the function *my_bag_of_words* with the size of the dictionary equals to 5000. To find the most common words use train data. You can test your code using the function *test_my_bag_of_words*."
    },
    {
      "metadata": {
        "trusted": true
      },
      "cell_type": "code",
      "source": "DICT_SIZE = 5000\nINDEX_TO_WORDS =  [(word) for word in sorted(words_counts.keys(), key=lambda x:words_counts[x], reverse=True)][:DICT_SIZE]\nWORDS_TO_INDEX = {INDEX_TO_WORDS[i]:i for i in range(DICT_SIZE)}\nALL_WORDS = WORDS_TO_INDEX.keys()\n\ndef my_bag_of_words(text, words_to_index, dict_size):\n    \"\"\"\n        text: a string\n        dict_size: size of the dictionary\n        \n        return a vector which is a bag-of-words representation of 'text'\n    \"\"\"\n    result_vector = np.zeros(dict_size)\n    sents  = text.split()\n    for word in sents:\n        if(word in words_to_index):\n            result_vector[words_to_index[word]]+=1\n    return result_vector",
      "execution_count": 116,
      "outputs": []
    },
    {
      "metadata": {
        "trusted": true
      },
      "cell_type": "code",
      "source": "def test_my_bag_of_words():\n    words_to_index = {'hi': 0, 'you': 1, 'me': 2, 'are': 3}\n    examples = ['hi how are you']\n    answers = [[1, 1, 0, 1]]\n    for ex, ans in zip(examples, answers):\n        if (my_bag_of_words(ex, words_to_index, 4) != ans).any():\n            return \"Wrong answer for the case: '%s'\" % ex\n    return 'Basic tests are passed.'",
      "execution_count": 118,
      "outputs": []
    },
    {
      "metadata": {
        "trusted": true
      },
      "cell_type": "code",
      "source": "print(test_my_bag_of_words())",
      "execution_count": 119,
      "outputs": [
        {
          "output_type": "stream",
          "text": "Basic tests are passed.\n",
          "name": "stdout"
        }
      ]
    },
    {
      "metadata": {},
      "cell_type": "markdown",
      "source": "Now apply the implemented function to all samples (this might take up to a minute):"
    },
    {
      "metadata": {
        "trusted": true
      },
      "cell_type": "code",
      "source": "from scipy import sparse as sp_sparse",
      "execution_count": 120,
      "outputs": []
    },
    {
      "metadata": {
        "trusted": true
      },
      "cell_type": "code",
      "source": "X_train_mybag = sp_sparse.vstack([sp_sparse.csr_matrix(my_bag_of_words(text, WORDS_TO_INDEX, DICT_SIZE)) for text in X_train])\nX_val_mybag = sp_sparse.vstack([sp_sparse.csr_matrix(my_bag_of_words(text, WORDS_TO_INDEX, DICT_SIZE)) for text in X_val])\nX_test_mybag = sp_sparse.vstack([sp_sparse.csr_matrix(my_bag_of_words(text, WORDS_TO_INDEX, DICT_SIZE)) for text in X_test])\nprint('X_train shape ', X_train_mybag.shape)\nprint('X_val shape ', X_val_mybag.shape)\nprint('X_test shape ', X_test_mybag.shape)",
      "execution_count": 121,
      "outputs": [
        {
          "output_type": "stream",
          "text": "X_train shape  (100000, 5000)\nX_val shape  (30000, 5000)\nX_test shape  (20000, 5000)\n",
          "name": "stdout"
        }
      ]
    },
    {
      "metadata": {},
      "cell_type": "markdown",
      "source": "As you might notice, we transform the data to sparse representation, to store the useful information efficiently. There are many [types](https://docs.scipy.org/doc/scipy/reference/sparse.html) of such representations, however sklearn algorithms can work only with [csr](https://docs.scipy.org/doc/scipy/reference/generated/scipy.sparse.csr_matrix.html#scipy.sparse.csr_matrix) matrix, so we will use this one."
    },
    {
      "metadata": {},
      "cell_type": "markdown",
      "source": "**Task 3 (BagOfWords).** For the 11th row in *X_train_mybag* find how many non-zero elements it has. In this task the answer (variable *non_zero_elements_count*) should be a number, e.g. 20."
    },
    {
      "metadata": {
        "trusted": true
      },
      "cell_type": "code",
      "source": "row = X_train_mybag[10].toarray()[0]\nnon_zero_elements_count = (row>0).sum()\n\ngrader.submit_tag('BagOfWords', str(non_zero_elements_count))",
      "execution_count": 122,
      "outputs": [
        {
          "output_type": "stream",
          "text": "Current answer for task BagOfWords is:\n 7...\n",
          "name": "stdout"
        }
      ]
    },
    {
      "metadata": {},
      "cell_type": "markdown",
      "source": "#### TF-IDF\n\nThe second approach extends the bag-of-words framework by taking into account total frequencies of words in the corpora. It helps to penalize too frequent words and provide better features space. \n\nImplement function *tfidf_features* using class [TfidfVectorizer](http://scikit-learn.org/stable/modules/generated/sklearn.feature_extraction.text.TfidfVectorizer.html) from *scikit-learn*. Use *train* corpus to train a vectorizer. Don't forget to take a look into the arguments that you can pass to it. We suggest that you filter out too rare words (occur less than in 5 titles) and too frequent words (occur more than in 90% of the titles). Also, use bigrams along with unigrams in your vocabulary. "
    },
    {
      "metadata": {
        "trusted": true
      },
      "cell_type": "code",
      "source": "from sklearn.feature_extraction.text import TfidfVectorizer",
      "execution_count": 127,
      "outputs": []
    },
    {
      "metadata": {
        "trusted": true
      },
      "cell_type": "code",
      "source": "def tfidf_features(X_train, X_val, X_test):\n    \"\"\"\n        X_train, X_val, X_test — samples        \n        return TF-IDF vectorized representation of each sample and vocabulary\n    \"\"\"\n    # Create TF-IDF vectorizer with a proper parameters choice\n    # Fit the vectorizer on the train set\n    # Transform the train, test, and val sets and return the result\n    \n    \n    tfidf_vectorizer =  TfidfVectorizer(min_df=5,max_df=0.9,use_idf=True,sublinear_tf=True,ngram_range=(1,2),token_pattern='(\\S+)')\n    \n    X_train = tfidf_vectorizer.fit_transform(X_train)\n    X_val = tfidf_vectorizer.transform(X_val)\n    X_test = tfidf_vectorizer.transform(X_test)\n    \n    return X_train, X_val, X_test, tfidf_vectorizer.vocabulary_",
      "execution_count": 145,
      "outputs": []
    },
    {
      "metadata": {},
      "cell_type": "markdown",
      "source": "Once you have done text preprocessing, always have a look at the results. Be very careful at this step, because the performance of future models will drastically depend on it. \n\nIn this case, check whether you have c++ or c# in your vocabulary, as they are obviously important tokens in our tags prediction task:"
    },
    {
      "metadata": {
        "trusted": true
      },
      "cell_type": "code",
      "source": "X_train_tfidf, X_val_tfidf, X_test_tfidf, tfidf_vocab = tfidf_features(X_train, X_val, X_test)\ntfidf_reversed_vocab = {i:word for word,i in tfidf_vocab.items()}",
      "execution_count": 146,
      "outputs": []
    },
    {
      "metadata": {},
      "cell_type": "markdown",
      "source": "If you can't find it, we need to understand how did it happen that we lost them? It happened during the built-in tokenization of TfidfVectorizer. Luckily, we can influence on this process. Get back to the function above and use '(\\S+)' regexp as a *token_pattern* in the constructor of the vectorizer.  "
    },
    {
      "metadata": {},
      "cell_type": "markdown",
      "source": "Now, use this transormation for the data and check again."
    },
    {
      "metadata": {
        "trusted": true
      },
      "cell_type": "code",
      "source": "print(tfidf_vocab['c#'])\nprint(tfidf_vocab['c++'])",
      "execution_count": 150,
      "outputs": [
        {
          "output_type": "stream",
          "text": "1879\n1976\n",
          "name": "stdout"
        }
      ]
    },
    {
      "metadata": {},
      "cell_type": "markdown",
      "source": "### MultiLabel classifier\n\nAs we have noticed before, in this task each example can have multiple tags. To deal with such kind of prediction, we need to transform labels in a binary form and the prediction will be a mask of 0s and 1s. For this purpose it is convenient to use [MultiLabelBinarizer](http://scikit-learn.org/stable/modules/generated/sklearn.preprocessing.MultiLabelBinarizer.html) from *sklearn*."
    },
    {
      "metadata": {
        "trusted": true
      },
      "cell_type": "code",
      "source": "from sklearn.preprocessing import MultiLabelBinarizer",
      "execution_count": 152,
      "outputs": []
    },
    {
      "metadata": {
        "trusted": true
      },
      "cell_type": "code",
      "source": "mlb = MultiLabelBinarizer(classes=sorted(tags_counts.keys()))\ny_train = mlb.fit_transform(y_train)\ny_val = mlb.fit_transform(y_val)",
      "execution_count": 153,
      "outputs": []
    },
    {
      "metadata": {
        "trusted": true
      },
      "cell_type": "code",
      "source": "y_val.shape",
      "execution_count": 157,
      "outputs": [
        {
          "output_type": "execute_result",
          "execution_count": 157,
          "data": {
            "text/plain": "(30000, 100)"
          },
          "metadata": {}
        }
      ]
    },
    {
      "metadata": {},
      "cell_type": "markdown",
      "source": "Implement the function *train_classifier* for training a classifier. In this task we suggest to use One-vs-Rest approach, which is implemented in [OneVsRestClassifier](http://scikit-learn.org/stable/modules/generated/sklearn.multiclass.OneVsRestClassifier.html) class. In this approach *k* classifiers (= number of tags) are trained. As a basic classifier, use [LogisticRegression](http://scikit-learn.org/stable/modules/generated/sklearn.linear_model.LogisticRegression.html). It is one of the simplest methods, but often it performs good enough in text classification tasks. It might take some time, because a number of classifiers to train is large."
    },
    {
      "metadata": {
        "trusted": true
      },
      "cell_type": "code",
      "source": "from sklearn.multiclass import OneVsRestClassifier\nfrom sklearn.linear_model import LogisticRegression, RidgeClassifier",
      "execution_count": 154,
      "outputs": []
    },
    {
      "metadata": {
        "trusted": true
      },
      "cell_type": "code",
      "source": "def train_classifier(X_train, y_train):\n    \"\"\"\n      X_train, y_train — training data\n      \n      return: trained classifier\n    \"\"\"\n    \n    Lr = LogisticRegression()\n    onevsrest = OneVsRestClassifier(estimator=Lr)\n    onevsrest.fit(X_train,y_train)\n    return onevsrest",
      "execution_count": 161,
      "outputs": []
    },
    {
      "metadata": {},
      "cell_type": "markdown",
      "source": "Train the classifiers for different data transformations: *bag-of-words* and *tf-idf*."
    },
    {
      "metadata": {
        "trusted": true
      },
      "cell_type": "code",
      "source": "classifier_mybag = train_classifier(X_train_mybag, y_train)\nclassifier_tfidf = train_classifier(X_train_tfidf, y_train)",
      "execution_count": 162,
      "outputs": []
    },
    {
      "metadata": {},
      "cell_type": "markdown",
      "source": "Now you can create predictions for the data. You will need two types of predictions: labels and scores."
    },
    {
      "metadata": {
        "trusted": true
      },
      "cell_type": "code",
      "source": "y_val_predicted_labels_mybag = classifier_mybag.predict(X_val_mybag)\ny_val_predicted_scores_mybag = classifier_mybag.decision_function(X_val_mybag)\n\ny_val_predicted_labels_tfidf = classifier_tfidf.predict(X_val_tfidf)\ny_val_predicted_scores_tfidf = classifier_tfidf.decision_function(X_val_tfidf)",
      "execution_count": 163,
      "outputs": []
    },
    {
      "metadata": {},
      "cell_type": "markdown",
      "source": "Now take a look at how classifier, which uses TF-IDF, works for a few examples:"
    },
    {
      "metadata": {
        "trusted": true
      },
      "cell_type": "code",
      "source": "y_val_pred_inversed = mlb.inverse_transform(y_val_predicted_labels_tfidf)\ny_val_inversed = mlb.inverse_transform(y_val)\nfor i in range(3):\n    print('Title:\\t{}\\nTrue labels:\\t{}\\nPredicted labels:\\t{}\\n\\n'.format(\n        X_val[i],\n        ','.join(y_val_inversed[i]),\n        ','.join(y_val_pred_inversed[i])\n    ))",
      "execution_count": 164,
      "outputs": [
        {
          "output_type": "stream",
          "text": "Title:\todbc_exec always fail\nTrue labels:\tphp,sql\nPredicted labels:\t\n\n\nTitle:\taccess base classes variable within child class\nTrue labels:\tjavascript\nPredicted labels:\t\n\n\nTitle:\tcontenttype application json required rails\nTrue labels:\truby,ruby-on-rails\nPredicted labels:\tjson,ruby-on-rails\n\n\n",
          "name": "stdout"
        }
      ]
    },
    {
      "metadata": {},
      "cell_type": "markdown",
      "source": "Now, we would need to compare the results of different predictions, e.g. to see whether TF-IDF transformation helps or to try different regularization techniques in logistic regression. For all these experiments, we need to setup evaluation procedure. "
    },
    {
      "metadata": {},
      "cell_type": "markdown",
      "source": "### Evaluation\n\nTo evaluate the results we will use several classification metrics:\n - [Accuracy](http://scikit-learn.org/stable/modules/generated/sklearn.metrics.accuracy_score.html)\n - [F1-score](http://scikit-learn.org/stable/modules/generated/sklearn.metrics.f1_score.html)\n - [Area under ROC-curve](http://scikit-learn.org/stable/modules/generated/sklearn.metrics.roc_auc_score.html)\n - [Area under precision-recall curve](http://scikit-learn.org/stable/modules/generated/sklearn.metrics.average_precision_score.html#sklearn.metrics.average_precision_score) \n \nMake sure you are familiar with all of them. How would you expect the things work for the multi-label scenario? Read about micro/macro/weighted averaging following the sklearn links provided above."
    },
    {
      "metadata": {
        "trusted": true
      },
      "cell_type": "code",
      "source": "from sklearn.metrics import accuracy_score\nfrom sklearn.metrics import f1_score\nfrom sklearn.metrics import roc_auc_score \nfrom sklearn.metrics import average_precision_score\nfrom sklearn.metrics import recall_score",
      "execution_count": 165,
      "outputs": []
    },
    {
      "metadata": {},
      "cell_type": "markdown",
      "source": "Implement the function *print_evaluation_scores* which calculates and prints to stdout:\n - *accuracy*\n - *F1-score macro/micro/weighted*\n - *Precision macro/micro/weighted*"
    },
    {
      "metadata": {
        "trusted": true
      },
      "cell_type": "code",
      "source": "def print_evaluation_scores(y_val, predicted):\n    print(accuracy_score(y_val,predicted))\n    print(f1_score(y_val,predicted,average='macro'))\n    print(average_precision_score(y_val,predicted,average='macro'))",
      "execution_count": 170,
      "outputs": []
    },
    {
      "metadata": {
        "trusted": true
      },
      "cell_type": "code",
      "source": "print('Bag-of-words')\nprint_evaluation_scores(y_val, y_val_predicted_labels_mybag)\nprint('Tfidf')\nprint_evaluation_scores(y_val, y_val_predicted_labels_tfidf)",
      "execution_count": 171,
      "outputs": [
        {
          "output_type": "stream",
          "text": "Bag-of-words\n0.3580333333333333\n0.5043515950342063\n0.34437939914136534\nTfidf\n0.3346\n0.44661146124429896\n0.30312541118460823\n",
          "name": "stdout"
        }
      ]
    },
    {
      "metadata": {},
      "cell_type": "markdown",
      "source": "You might also want to plot some generalization of the [ROC curve](http://scikit-learn.org/stable/modules/model_evaluation.html#receiver-operating-characteristic-roc) for the case of multi-label classification. Provided function *roc_auc* can make it for you. The input parameters of this function are:\n - true labels\n - decision functions scores\n - number of classes"
    },
    {
      "metadata": {
        "trusted": true
      },
      "cell_type": "code",
      "source": "from metrics import roc_auc\n%matplotlib inline",
      "execution_count": 172,
      "outputs": []
    },
    {
      "metadata": {
        "trusted": true
      },
      "cell_type": "code",
      "source": "n_classes = len(tags_counts)\nroc_auc(y_val, y_val_predicted_scores_mybag, n_classes)",
      "execution_count": 173,
      "outputs": [
        {
          "output_type": "display_data",
          "data": {
            "image/png": "[encoded data removed]",
            "text/plain": "<matplotlib.figure.Figure at 0x7fb7482110f0>"
          },
          "metadata": {}
        }
      ]
    },
    {
      "metadata": {
        "trusted": true
      },
      "cell_type": "code",
      "source": "n_classes = len(tags_counts)\nroc_auc(y_val, y_val_predicted_scores_tfidf, n_classes)",
      "execution_count": 174,
      "outputs": [
        {
          "output_type": "display_data",
          "data": {
            "image/png": "[encoded data removed]",
            "text/plain": "<matplotlib.figure.Figure at 0x7fb7482dd438>"
          },
          "metadata": {}
        }
      ]
    },
    {
      "metadata": {},
      "cell_type": "markdown",
      "source": "**Task 4 (MultilabelClassification).** Once we have the evaluation set up, we suggest that you experiment a bit with training your classifiers. We will use *F1-score weighted* as an evaluation metric. Our recommendation:\n- compare the quality of the bag-of-words and TF-IDF approaches and chose one of them.\n- for the chosen one, try *L1* and *L2*-regularization techniques in Logistic Regression with different coefficients (e.g. C equal to 0.1, 1, 10, 100).\n\nYou also could try other improvements of the preprocessing / model, if you want. "
    },
    {
      "metadata": {
        "trusted": true
      },
      "cell_type": "code",
      "source": "Lr = LogisticRegression(C=10)\nonevsrest = OneVsRestClassifier(estimator=Lr)\nonevsrest.fit(X_train_tfidf,y_train)\npredicted = onevsrest.predict(X_val_tfidf)\nprint(f1_score(y_val,predicted,average='macro'))",
      "execution_count": 183,
      "outputs": [
        {
          "output_type": "stream",
          "text": "0.5073502151351508\n",
          "name": "stdout"
        }
      ]
    },
    {
      "metadata": {},
      "cell_type": "markdown",
      "source": "When you are happy with the quality, create predictions for *test* set, which you will submit to Coursera."
    },
    {
      "metadata": {
        "trusted": true
      },
      "cell_type": "code",
      "source": "test_predictions = onevsrest.predict(X_test_tfidf)\ntest_pred_inversed = mlb.inverse_transform(test_predictions)\n\ntest_predictions_for_submission = '\\n'.join('%i\\t%s' % (i, ','.join(row)) for i, row in enumerate(test_pred_inversed))\ngrader.submit_tag('MultilabelClassification', test_predictions_for_submission)",
      "execution_count": 184,
      "outputs": [
        {
          "output_type": "stream",
          "text": "Current answer for task MultilabelClassification is:\n 0\tmysql,php\n1\thtml,javascript,jquery\n2\t\n3\tjavascript,jquery\n4\tandroid,java\n5\tparsing,php,xml\n6\tjson\n...\n",
          "name": "stdout"
        }
      ]
    },
    {
      "metadata": {},
      "cell_type": "markdown",
      "source": "### Analysis of the most important features"
    },
    {
      "metadata": {},
      "cell_type": "markdown",
      "source": "Finally, it is usually a good idea to look at the features (words or n-grams) that are used with the largest weigths in your logistic regression model."
    },
    {
      "metadata": {},
      "cell_type": "markdown",
      "source": "Implement the function *print_words_for_tag* to find them. Get back to sklearn documentation on [OneVsRestClassifier](http://scikit-learn.org/stable/modules/generated/sklearn.multiclass.OneVsRestClassifier.html) and [LogisticRegression](http://scikit-learn.org/stable/modules/generated/sklearn.linear_model.LogisticRegression.html) if needed."
    },
    {
      "metadata": {
        "collapsed": true,
        "trusted": false
      },
      "cell_type": "code",
      "source": "def print_words_for_tag(classifier, tag, tags_classes, index_to_words, all_words):\n    \"\"\"\n        classifier: trained classifier\n        tag: particular tag\n        tags_classes: a list of classes names from MultiLabelBinarizer\n        index_to_words: index_to_words transformation\n        all_words: all words in the dictionary\n        \n        return nothing, just print top 5 positive and top 5 negative words for current tag\n    \"\"\"\n    print('Tag:\\t{}'.format(tag))\n    \n    # Extract an estimator from the classifier for the given tag.\n    # Extract feature coefficients from the estimator. \n    \n    ######################################\n    ######### YOUR CODE HERE #############\n    ######################################\n    \n    top_positive_words = # top-5 words sorted by the coefficiens.\n    top_negative_words = # bottom-5 words  sorted by the coefficients.\n    print('Top positive words:\\t{}'.format(', '.join(top_positive_words)))\n    print('Top negative words:\\t{}\\n'.format(', '.join(top_negative_words)))",
      "execution_count": null,
      "outputs": []
    },
    {
      "metadata": {
        "collapsed": true,
        "trusted": false
      },
      "cell_type": "code",
      "source": "print_words_for_tag(classifier_tfidf, 'c', mlb.classes, tfidf_reversed_vocab, ALL_WORDS)\nprint_words_for_tag(classifier_tfidf, 'c++', mlb.classes, tfidf_reversed_vocab, ALL_WORDS)\nprint_words_for_tag(classifier_tfidf, 'linux', mlb.classes, tfidf_reversed_vocab, ALL_WORDS)",
      "execution_count": null,
      "outputs": []
    },
    {
      "metadata": {},
      "cell_type": "markdown",
      "source": "### Authorization & Submission\nTo submit assignment parts to Cousera platform, please, enter your e-mail and token into variables below. You can generate token on this programming assignment page. <b>Note:</b> Token expires 30 minutes after generation."
    },
    {
      "metadata": {
        "trusted": true
      },
      "cell_type": "code",
      "source": "grader.status()",
      "execution_count": 185,
      "outputs": [
        {
          "output_type": "stream",
          "text": "You want to submit these parts:\nTask TextPrepare:\n sqlite php readonly\ncreating multiple textboxes dynamically\nself one prefer javascript\nsave php date...\nTask WordsTagsCount:\n javascript,c#,java\nusing,php,java...\nTask BagOfWords:\n 7...\nTask MultilabelClassification:\n 0\tmysql,php\n1\thtml,javascript,jquery\n2\t\n3\tjavascript,jquery\n4\tandroid,java\n5\tparsing,php,xml\n6\tjson\n...\n",
          "name": "stdout"
        }
      ]
    },
    {
      "metadata": {
        "trusted": true
      },
      "cell_type": "code",
      "source": "STUDENT_EMAIL = \"\" \nSTUDENT_TOKEN = \"\"\ngrader.status()",
      "execution_count": 188,
      "outputs": [
        {
          "output_type": "stream",
          "text": "You want to submit these parts:\nTask TextPrepare:\n sqlite php readonly\ncreating multiple textboxes dynamically\nself one prefer javascript\nsave php date...\nTask WordsTagsCount:\n javascript,c#,java\nusing,php,java...\nTask BagOfWords:\n 7...\nTask MultilabelClassification:\n 0\tmysql,php\n1\thtml,javascript,jquery\n2\t\n3\tjavascript,jquery\n4\tandroid,java\n5\tparsing,php,xml\n6\tjson\n...\n",
          "name": "stdout"
        }
      ]
    },
    {
      "metadata": {},
      "cell_type": "markdown",
      "source": "If you want to submit these answers, run cell below"
    },
    {
      "metadata": {
        "trusted": true
      },
      "cell_type": "code",
      "source": "grader.submit(STUDENT_EMAIL, STUDENT_TOKEN)",
      "execution_count": 189,
      "outputs": [
        {
          "output_type": "stream",
          "text": "Submitted to Coursera platform. See results on assignment page!\n",
          "name": "stdout"
        }
      ]
    },
    {
      "metadata": {
        "trusted": true
      },
      "cell_type": "code",
      "source": "",
      "execution_count": null,
      "outputs": []
    }
  ],
  "metadata": {
    "kernelspec": {
      "name": "python3",
      "display_name": "Python 3",
      "language": "python"
    },
    "language_info": {
      "mimetype": "text/x-python",
      "nbconvert_exporter": "python",
      "name": "python",
      "pygments_lexer": "ipython3",
      "version": "3.5.4",
      "file_extension": ".py",
      "codemirror_mode": {
        "version": 3,
        "name": "ipython"
      }
    }
  },
  "nbformat": 4,
  "nbformat_minor": 2
}